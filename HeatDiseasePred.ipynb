{
 "cells": [
  {
   "cell_type": "code",
   "execution_count": 1,
   "id": "6639dc95-6105-4da6-8dd0-1df52a3527e2",
   "metadata": {},
   "outputs": [],
   "source": [
    "import numpy as np\n",
    "import pandas as pd\n",
    "import seaborn as sns\n",
    "import matplotlib.pyplot as plt"
   ]
  },
  {
   "cell_type": "code",
   "execution_count": null,
   "id": "89a29c84-8cd8-4c50-880c-5161f6142d3a",
   "metadata": {},
   "outputs": [],
   "source": [
    "df = pd.read_csv(\"heart.csv\")\n",
    "\n",
    "df.head()"
   ]
  },
  {
   "cell_type": "code",
   "execution_count": null,
   "id": "8b0c36f4-d330-4e49-b475-d809847eee1f",
   "metadata": {},
   "outputs": [],
   "source": [
    "df['target'].unique()"
   ]
  },
  {
   "cell_type": "code",
   "execution_count": null,
   "id": "caf44727-6bd8-41f5-9ceb-5079c6a83304",
   "metadata": {},
   "outputs": [],
   "source": [
    "df.info()"
   ]
  },
  {
   "cell_type": "code",
   "execution_count": null,
   "id": "bffc3cf2-839c-42c8-8355-30f3fa4a6631",
   "metadata": {},
   "outputs": [],
   "source": [
    "df.describe().transpose()"
   ]
  },
  {
   "cell_type": "code",
   "execution_count": null,
   "id": "ba11e46f-3930-4563-bb8b-1a6bf23fd430",
   "metadata": {},
   "outputs": [],
   "source": [
    "sns.countplot(x='target',data=df)"
   ]
  },
  {
   "cell_type": "code",
   "execution_count": null,
   "id": "f480571b-3eb6-4d3f-95a7-c100edf10ef0",
   "metadata": {},
   "outputs": [],
   "source": [
    "df.columns"
   ]
  },
  {
   "cell_type": "code",
   "execution_count": null,
   "id": "55286233-3754-4159-9b0b-27cc076a014e",
   "metadata": {},
   "outputs": [],
   "source": [
    "# Running pairplot on everything will take a very long time to render!\n",
    "sns.pairplot(df[['age','trestbps', 'chol','thalach','target']],hue='target')"
   ]
  },
  {
   "cell_type": "code",
   "execution_count": null,
   "id": "64db50e7-349d-4a63-9bd8-33472f8da245",
   "metadata": {},
   "outputs": [],
   "source": [
    "plt.figure(figsize=(12,8))"
   ]
  },
  {
   "cell_type": "code",
   "execution_count": null,
   "id": "cf06cea8-cad1-4fac-911e-c3b3aaf4d331",
   "metadata": {},
   "outputs": [],
   "source": [
    "sns.heatmap(df.corr(),cmap='viridis',annot=True)"
   ]
  },
  {
   "cell_type": "code",
   "execution_count": null,
   "id": "da772f2d-b73b-4e3d-80ec-02373be61c48",
   "metadata": {},
   "outputs": [],
   "source": [
    "X = df.drop('target',axis=1)\n",
    "y = df['target']"
   ]
  },
  {
   "cell_type": "code",
   "execution_count": null,
   "id": "3cd7df32-e58f-435f-a6f3-677374e03908",
   "metadata": {},
   "outputs": [],
   "source": [
    "from sklearn.model_selection import train_test_split\n",
    "from sklearn.preprocessing import StandardScaler\n",
    "\n",
    "X_train, X_test, y_train, y_test = train_test_split(X, y, test_size=0.1, random_state=101)\n",
    "\n",
    "scaler = StandardScaler()\n",
    "\n",
    "scaled_X_train = scaler.fit_transform(X_train)\n",
    "scaled_X_test = scaler.transform(X_test)"
   ]
  },
  {
   "cell_type": "code",
   "execution_count": null,
   "id": "087b1a04-b69b-4dc8-ae02-595f6c663a30",
   "metadata": {},
   "outputs": [],
   "source": [
    "from sklearn.linear_model import LogisticRegressionCV \n",
    "\n",
    "log_model = LogisticRegressionCV()\n",
    "\n",
    "log_model.fit(scaled_X_train,y_train)\n",
    "\n",
    "log_model.get_params()\n",
    "\n",
    "log_model.coef_\n",
    "\n",
    "coefs = pd.Series(index=X.columns,data=log_model.coef_[0])\n",
    "\n",
    "coefs = coefs.sort_values()\n",
    "\n",
    "plt.figure(figsize=(10,6))"
   ]
  },
  {
   "cell_type": "code",
   "execution_count": null,
   "id": "29e6e383-5caf-4d50-a116-7dc68053d405",
   "metadata": {},
   "outputs": [],
   "source": [
    "sns.barplot(x=coefs.index,y=coefs.values);"
   ]
  },
  {
   "cell_type": "code",
   "execution_count": null,
   "id": "f3914402-f024-4982-a37c-18d2d9542702",
   "metadata": {},
   "outputs": [],
   "source": [
    "from sklearn.metrics import confusion_matrix,classification_report,plot_confusion_matrix\n",
    "\n",
    "y_pred = log_model.predict(scaled_X_test)\n",
    "\n",
    "confusion_matrix(y_test,y_pred)\n",
    "\n",
    "plot_confusion_matrix(log_model,scaled_X_test,y_test)"
   ]
  },
  {
   "cell_type": "code",
   "execution_count": null,
   "id": "920fbe47-08cd-4b36-b3ca-fa8d9374d143",
   "metadata": {},
   "outputs": [],
   "source": [
    "print(classification_report(y_test,y_pred))"
   ]
  },
  {
   "cell_type": "code",
   "execution_count": null,
   "id": "bb55c327-b316-4981-8640-95d4c80978cd",
   "metadata": {},
   "outputs": [],
   "source": [
    "from sklearn.metrics import plot_precision_recall_curve,plot_roc_curve\n",
    "\n",
    "plot_precision_recall_curve(log_model,scaled_X_test,y_test)\n",
    "\n",
    "plot_roc_curve(log_model,scaled_X_test,y_test)\n",
    "\n",
    "patient = [[ 54. ,   1. ,   0. , 122. , 286. ,   0. ,   0. , 116. ,   1. ,\n",
    "          3.2,   1. ,   2. ,   2. ]]\n",
    "\n",
    "X_test.iloc[-1]\n",
    "\n",
    "y_test.iloc[-1]\n",
    "\n",
    "log_model.predict(patient)"
   ]
  },
  {
   "cell_type": "code",
   "execution_count": null,
   "id": "b23667fe-4e04-49f1-9ed4-adae254f41f8",
   "metadata": {},
   "outputs": [],
   "source": [
    "log_model.predict_proba(patient)"
   ]
  }
 ],
 "metadata": {
  "kernelspec": {
   "display_name": "Python 3 (ipykernel)",
   "language": "python",
   "name": "python3"
  },
  "language_info": {
   "codemirror_mode": {
    "name": "ipython",
    "version": 3
   },
   "file_extension": ".py",
   "mimetype": "text/x-python",
   "name": "python",
   "nbconvert_exporter": "python",
   "pygments_lexer": "ipython3",
   "version": "3.11.5"
  }
 },
 "nbformat": 4,
 "nbformat_minor": 5
}
